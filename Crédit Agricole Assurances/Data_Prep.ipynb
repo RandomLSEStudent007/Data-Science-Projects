{
 "cells": [
  {
   "cell_type": "code",
   "execution_count": 2,
   "metadata": {},
   "outputs": [],
   "source": [
    "import pandas as pd\n",
    "import numpy as np\n"
   ]
  },
  {
   "cell_type": "code",
   "execution_count": 6,
   "metadata": {},
   "outputs": [],
   "source": [
    "X_train = pd.read_csv('train_input_Z61KlZo.csv', low_memory = False)\n",
    "X_test = pd.read_csv('test_input_5qJzHrr.csv', low_memory = False)\n",
    "y_train = pd.read_csv('train_output_DzPxaPY.csv')"
   ]
  },
  {
   "cell_type": "code",
   "execution_count": 7,
   "metadata": {},
   "outputs": [
    {
     "name": "stdout",
     "output_type": "stream",
     "text": [
      "Index(['ID', 'ACTIVIT2', 'VOCATION', 'TYPERS', 'ANCIENNETE', 'ADOSS',\n",
      "       'CARACT1', 'CARACT2', 'CARACT3', 'INDEM1',\n",
      "       ...\n",
      "       'NBJRR100_MMAX_A', 'NBJRR100_MSOM_A', 'RR_VOR_MM_A', 'RR_VOR_MMAX_A',\n",
      "       'RRAB_VOR_MM_A', 'RRAB_VOR_MMAX_A', 'ANNEE_ASSURANCE', 'ESPINSEE',\n",
      "       'AN_EXERC', 'ZONE'],\n",
      "      dtype='object', length=374)\n"
     ]
    }
   ],
   "source": [
    "print(X_train.columns)"
   ]
  },
  {
   "cell_type": "code",
   "execution_count": null,
   "metadata": {},
   "outputs": [],
   "source": []
  }
 ],
 "metadata": {
  "kernelspec": {
   "display_name": "Python 3",
   "language": "python",
   "name": "python3"
  },
  "language_info": {
   "codemirror_mode": {
    "name": "ipython",
    "version": 3
   },
   "file_extension": ".py",
   "mimetype": "text/x-python",
   "name": "python",
   "nbconvert_exporter": "python",
   "pygments_lexer": "ipython3",
   "version": "3.9.5"
  }
 },
 "nbformat": 4,
 "nbformat_minor": 2
}
