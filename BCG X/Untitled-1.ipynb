{
 "cells": [
  {
   "cell_type": "code",
   "execution_count": 2,
   "metadata": {},
   "outputs": [
    {
     "name": "stdout",
     "output_type": "stream",
     "text": [
      "2.2539340290692216e-05\n"
     ]
    }
   ],
   "source": [
    "import math\n",
    "\n",
    "prob_sum = 0\n",
    "\n",
    "for i in range(25, 31):\n",
    "    prob_val = math.comb(30,i) * 0.7**i * 0.3**(30-i)\n",
    "    prob_sum += prob_val\n",
    "\n",
    "print(prob_val)"
   ]
  },
  {
   "cell_type": "code",
   "execution_count": 7,
   "metadata": {},
   "outputs": [
    {
     "data": {
      "text/plain": [
       "1.67"
      ]
     },
     "execution_count": 7,
     "metadata": {},
     "output_type": "execute_result"
    }
   ],
   "source": [
    "def mse_func(predicted, actual):\n",
    "    mse_sum = 0\n",
    "    for p,a in zip(predicted, actual):\n",
    "        mse_sum += (p-a)**2\n",
    "    return round(mse_sum/len(predicted), 2)\n",
    "\n",
    "mse_func([1,1,1], [1,0,3])"
   ]
  },
  {
   "cell_type": "code",
   "execution_count": null,
   "metadata": {},
   "outputs": [],
   "source": []
  }
 ],
 "metadata": {
  "kernelspec": {
   "display_name": "Python 3",
   "language": "python",
   "name": "python3"
  },
  "language_info": {
   "codemirror_mode": {
    "name": "ipython",
    "version": 3
   },
   "file_extension": ".py",
   "mimetype": "text/x-python",
   "name": "python",
   "nbconvert_exporter": "python",
   "pygments_lexer": "ipython3",
   "version": "3.9.5"
  }
 },
 "nbformat": 4,
 "nbformat_minor": 2
}
