{
 "cells": [
  {
   "cell_type": "markdown",
   "id": "a207638d-2d90-4a41-81e0-f86b35a174f9",
   "metadata": {},
   "source": [
    "# Exploratory Data Analysis Starter\n",
    "\n",
    "## Import packages"
   ]
  },
  {
   "cell_type": "code",
   "execution_count": 1,
   "id": "21fa22a3-62fc-4ee9-ad3b-5e3fbc059bdf",
   "metadata": {},
   "outputs": [],
   "source": [
    "import matplotlib.pyplot as plt\n",
    "import seaborn as sns\n",
    "import pandas as pd\n",
    "\n",
    "# Shows plots in jupyter notebook\n",
    "%matplotlib inline\n",
    "\n",
    "# Set plot style\n",
    "sns.set(color_codes=True)"
   ]
  },
  {
   "cell_type": "markdown",
   "id": "88cb5312-cbc0-4193-b84e-2c94455c9edf",
   "metadata": {},
   "source": [
    "---\n",
    "\n",
    "## Loading data with Pandas\n",
    "\n",
    "We need to load `client_data.csv` and `price_data.csv` into individual dataframes so that we can work with them in Python. For this notebook and all further notebooks, it will be assumed that the CSV files will the placed in the same file location as the notebook. If they are not, please adjust the directory within the `read_csv` method accordingly."
   ]
  },
  {
   "cell_type": "code",
   "execution_count": 2,
   "id": "82e6a4ae-2b8a-4152-b04f-0c998466fd50",
   "metadata": {},
   "outputs": [],
   "source": [
    "client_df = pd.read_csv('./client_data.csv')\n",
    "price_df = pd.read_csv('./price_data.csv')"
   ]
  },
  {
   "cell_type": "markdown",
   "id": "4ac7aaab-7c26-40ca-8f63-cf2ef9541ce6",
   "metadata": {},
   "source": [
    "You can view the first 3 rows of a dataframe using the `head` method. Similarly, if you wanted to see the last 3, you can use `tail(3)`"
   ]
  },
  {
   "cell_type": "code",
   "execution_count": 3,
   "id": "dcf0d488-d3df-4819-a52b-e335c0674e43",
   "metadata": {},
   "outputs": [
    {
     "data": {
      "application/vnd.microsoft.datawrangler.viewer.v0+json": {
       "columns": [
        {
         "name": "index",
         "rawType": "int64",
         "type": "integer"
        },
        {
         "name": "id",
         "rawType": "object",
         "type": "string"
        },
        {
         "name": "channel_sales",
         "rawType": "object",
         "type": "string"
        },
        {
         "name": "cons_12m",
         "rawType": "int64",
         "type": "integer"
        },
        {
         "name": "cons_gas_12m",
         "rawType": "int64",
         "type": "integer"
        },
        {
         "name": "cons_last_month",
         "rawType": "int64",
         "type": "integer"
        },
        {
         "name": "date_activ",
         "rawType": "object",
         "type": "string"
        },
        {
         "name": "date_end",
         "rawType": "object",
         "type": "string"
        },
        {
         "name": "date_modif_prod",
         "rawType": "object",
         "type": "string"
        },
        {
         "name": "date_renewal",
         "rawType": "object",
         "type": "string"
        },
        {
         "name": "forecast_cons_12m",
         "rawType": "float64",
         "type": "float"
        },
        {
         "name": "forecast_cons_year",
         "rawType": "int64",
         "type": "integer"
        },
        {
         "name": "forecast_discount_energy",
         "rawType": "float64",
         "type": "float"
        },
        {
         "name": "forecast_meter_rent_12m",
         "rawType": "float64",
         "type": "float"
        },
        {
         "name": "forecast_price_energy_off_peak",
         "rawType": "float64",
         "type": "float"
        },
        {
         "name": "forecast_price_energy_peak",
         "rawType": "float64",
         "type": "float"
        },
        {
         "name": "forecast_price_pow_off_peak",
         "rawType": "float64",
         "type": "float"
        },
        {
         "name": "has_gas",
         "rawType": "object",
         "type": "string"
        },
        {
         "name": "imp_cons",
         "rawType": "float64",
         "type": "float"
        },
        {
         "name": "margin_gross_pow_ele",
         "rawType": "float64",
         "type": "float"
        },
        {
         "name": "margin_net_pow_ele",
         "rawType": "float64",
         "type": "float"
        },
        {
         "name": "nb_prod_act",
         "rawType": "int64",
         "type": "integer"
        },
        {
         "name": "net_margin",
         "rawType": "float64",
         "type": "float"
        },
        {
         "name": "num_years_antig",
         "rawType": "int64",
         "type": "integer"
        },
        {
         "name": "origin_up",
         "rawType": "object",
         "type": "string"
        },
        {
         "name": "pow_max",
         "rawType": "float64",
         "type": "float"
        },
        {
         "name": "churn",
         "rawType": "int64",
         "type": "integer"
        }
       ],
       "conversionMethod": "pd.DataFrame",
       "ref": "e6474820-1e90-4dcc-8f84-fd64ee8d5555",
       "rows": [
        [
         "0",
         "24011ae4ebbe3035111d65fa7c15bc57",
         "foosdfpfkusacimwkcsosbicdxkicaua",
         "0",
         "54946",
         "0",
         "2013-06-15",
         "2016-06-15",
         "2015-11-01",
         "2015-06-23",
         "0.0",
         "0",
         "0.0",
         "1.78",
         "0.114481",
         "0.098142",
         "40.606701",
         "t",
         "0.0",
         "25.44",
         "25.44",
         "2",
         "678.99",
         "3",
         "lxidpiddsbxsbosboudacockeimpuepw",
         "43.648",
         "1"
        ],
        [
         "1",
         "d29c2c54acc38ff3c0614d0a653813dd",
         "MISSING",
         "4660",
         "0",
         "0",
         "2009-08-21",
         "2016-08-30",
         "2009-08-21",
         "2015-08-31",
         "189.95",
         "0",
         "0.0",
         "16.27",
         "0.1457109999999999",
         "0.0",
         "44.31137796",
         "f",
         "0.0",
         "16.38",
         "16.38",
         "1",
         "18.89",
         "6",
         "kamkkxfxxuwbdslkwifmmcsiusiuosws",
         "13.8",
         "0"
        ],
        [
         "2",
         "764c75f661154dac3a6c254cd082ea7d",
         "foosdfpfkusacimwkcsosbicdxkicaua",
         "544",
         "0",
         "0",
         "2010-04-16",
         "2016-04-16",
         "2010-04-16",
         "2015-04-17",
         "47.96",
         "0",
         "0.0",
         "38.72",
         "0.165794",
         "0.087899",
         "44.31137796",
         "f",
         "0.0",
         "28.6",
         "28.6",
         "1",
         "6.6",
         "6",
         "kamkkxfxxuwbdslkwifmmcsiusiuosws",
         "13.856",
         "0"
        ]
       ],
       "shape": {
        "columns": 26,
        "rows": 3
       }
      },
      "text/html": [
       "<div>\n",
       "<style scoped>\n",
       "    .dataframe tbody tr th:only-of-type {\n",
       "        vertical-align: middle;\n",
       "    }\n",
       "\n",
       "    .dataframe tbody tr th {\n",
       "        vertical-align: top;\n",
       "    }\n",
       "\n",
       "    .dataframe thead th {\n",
       "        text-align: right;\n",
       "    }\n",
       "</style>\n",
       "<table border=\"1\" class=\"dataframe\">\n",
       "  <thead>\n",
       "    <tr style=\"text-align: right;\">\n",
       "      <th></th>\n",
       "      <th>id</th>\n",
       "      <th>channel_sales</th>\n",
       "      <th>cons_12m</th>\n",
       "      <th>cons_gas_12m</th>\n",
       "      <th>cons_last_month</th>\n",
       "      <th>date_activ</th>\n",
       "      <th>date_end</th>\n",
       "      <th>date_modif_prod</th>\n",
       "      <th>date_renewal</th>\n",
       "      <th>forecast_cons_12m</th>\n",
       "      <th>...</th>\n",
       "      <th>has_gas</th>\n",
       "      <th>imp_cons</th>\n",
       "      <th>margin_gross_pow_ele</th>\n",
       "      <th>margin_net_pow_ele</th>\n",
       "      <th>nb_prod_act</th>\n",
       "      <th>net_margin</th>\n",
       "      <th>num_years_antig</th>\n",
       "      <th>origin_up</th>\n",
       "      <th>pow_max</th>\n",
       "      <th>churn</th>\n",
       "    </tr>\n",
       "  </thead>\n",
       "  <tbody>\n",
       "    <tr>\n",
       "      <th>0</th>\n",
       "      <td>24011ae4ebbe3035111d65fa7c15bc57</td>\n",
       "      <td>foosdfpfkusacimwkcsosbicdxkicaua</td>\n",
       "      <td>0</td>\n",
       "      <td>54946</td>\n",
       "      <td>0</td>\n",
       "      <td>2013-06-15</td>\n",
       "      <td>2016-06-15</td>\n",
       "      <td>2015-11-01</td>\n",
       "      <td>2015-06-23</td>\n",
       "      <td>0.00</td>\n",
       "      <td>...</td>\n",
       "      <td>t</td>\n",
       "      <td>0.0</td>\n",
       "      <td>25.44</td>\n",
       "      <td>25.44</td>\n",
       "      <td>2</td>\n",
       "      <td>678.99</td>\n",
       "      <td>3</td>\n",
       "      <td>lxidpiddsbxsbosboudacockeimpuepw</td>\n",
       "      <td>43.648</td>\n",
       "      <td>1</td>\n",
       "    </tr>\n",
       "    <tr>\n",
       "      <th>1</th>\n",
       "      <td>d29c2c54acc38ff3c0614d0a653813dd</td>\n",
       "      <td>MISSING</td>\n",
       "      <td>4660</td>\n",
       "      <td>0</td>\n",
       "      <td>0</td>\n",
       "      <td>2009-08-21</td>\n",
       "      <td>2016-08-30</td>\n",
       "      <td>2009-08-21</td>\n",
       "      <td>2015-08-31</td>\n",
       "      <td>189.95</td>\n",
       "      <td>...</td>\n",
       "      <td>f</td>\n",
       "      <td>0.0</td>\n",
       "      <td>16.38</td>\n",
       "      <td>16.38</td>\n",
       "      <td>1</td>\n",
       "      <td>18.89</td>\n",
       "      <td>6</td>\n",
       "      <td>kamkkxfxxuwbdslkwifmmcsiusiuosws</td>\n",
       "      <td>13.800</td>\n",
       "      <td>0</td>\n",
       "    </tr>\n",
       "    <tr>\n",
       "      <th>2</th>\n",
       "      <td>764c75f661154dac3a6c254cd082ea7d</td>\n",
       "      <td>foosdfpfkusacimwkcsosbicdxkicaua</td>\n",
       "      <td>544</td>\n",
       "      <td>0</td>\n",
       "      <td>0</td>\n",
       "      <td>2010-04-16</td>\n",
       "      <td>2016-04-16</td>\n",
       "      <td>2010-04-16</td>\n",
       "      <td>2015-04-17</td>\n",
       "      <td>47.96</td>\n",
       "      <td>...</td>\n",
       "      <td>f</td>\n",
       "      <td>0.0</td>\n",
       "      <td>28.60</td>\n",
       "      <td>28.60</td>\n",
       "      <td>1</td>\n",
       "      <td>6.60</td>\n",
       "      <td>6</td>\n",
       "      <td>kamkkxfxxuwbdslkwifmmcsiusiuosws</td>\n",
       "      <td>13.856</td>\n",
       "      <td>0</td>\n",
       "    </tr>\n",
       "  </tbody>\n",
       "</table>\n",
       "<p>3 rows × 26 columns</p>\n",
       "</div>"
      ],
      "text/plain": [
       "                                 id                     channel_sales  \\\n",
       "0  24011ae4ebbe3035111d65fa7c15bc57  foosdfpfkusacimwkcsosbicdxkicaua   \n",
       "1  d29c2c54acc38ff3c0614d0a653813dd                           MISSING   \n",
       "2  764c75f661154dac3a6c254cd082ea7d  foosdfpfkusacimwkcsosbicdxkicaua   \n",
       "\n",
       "   cons_12m  cons_gas_12m  cons_last_month  date_activ    date_end  \\\n",
       "0         0         54946                0  2013-06-15  2016-06-15   \n",
       "1      4660             0                0  2009-08-21  2016-08-30   \n",
       "2       544             0                0  2010-04-16  2016-04-16   \n",
       "\n",
       "  date_modif_prod date_renewal  forecast_cons_12m  ...  has_gas  imp_cons  \\\n",
       "0      2015-11-01   2015-06-23               0.00  ...        t       0.0   \n",
       "1      2009-08-21   2015-08-31             189.95  ...        f       0.0   \n",
       "2      2010-04-16   2015-04-17              47.96  ...        f       0.0   \n",
       "\n",
       "   margin_gross_pow_ele  margin_net_pow_ele  nb_prod_act  net_margin  \\\n",
       "0                 25.44               25.44            2      678.99   \n",
       "1                 16.38               16.38            1       18.89   \n",
       "2                 28.60               28.60            1        6.60   \n",
       "\n",
       "  num_years_antig                         origin_up  pow_max  churn  \n",
       "0               3  lxidpiddsbxsbosboudacockeimpuepw   43.648      1  \n",
       "1               6  kamkkxfxxuwbdslkwifmmcsiusiuosws   13.800      0  \n",
       "2               6  kamkkxfxxuwbdslkwifmmcsiusiuosws   13.856      0  \n",
       "\n",
       "[3 rows x 26 columns]"
      ]
     },
     "execution_count": 3,
     "metadata": {},
     "output_type": "execute_result"
    }
   ],
   "source": [
    "client_df.head(3)"
   ]
  },
  {
   "cell_type": "code",
   "execution_count": 4,
   "id": "2654a02d-8cf3-4a18-903e-b4f7f95d8e9e",
   "metadata": {},
   "outputs": [
    {
     "data": {
      "application/vnd.microsoft.datawrangler.viewer.v0+json": {
       "columns": [
        {
         "name": "index",
         "rawType": "int64",
         "type": "integer"
        },
        {
         "name": "id",
         "rawType": "object",
         "type": "string"
        },
        {
         "name": "price_date",
         "rawType": "object",
         "type": "string"
        },
        {
         "name": "price_off_peak_var",
         "rawType": "float64",
         "type": "float"
        },
        {
         "name": "price_peak_var",
         "rawType": "float64",
         "type": "float"
        },
        {
         "name": "price_mid_peak_var",
         "rawType": "float64",
         "type": "float"
        },
        {
         "name": "price_off_peak_fix",
         "rawType": "float64",
         "type": "float"
        },
        {
         "name": "price_peak_fix",
         "rawType": "float64",
         "type": "float"
        },
        {
         "name": "price_mid_peak_fix",
         "rawType": "float64",
         "type": "float"
        }
       ],
       "conversionMethod": "pd.DataFrame",
       "ref": "3a775ad3-a84d-441a-aeca-c5f4f2569dab",
       "rows": [
        [
         "0",
         "038af19179925da21a25619c5a24b745",
         "2015-01-01",
         "0.151367",
         "0.0",
         "0.0",
         "44.26693116",
         "0.0",
         "0.0"
        ],
        [
         "1",
         "038af19179925da21a25619c5a24b745",
         "2015-02-01",
         "0.151367",
         "0.0",
         "0.0",
         "44.26693116",
         "0.0",
         "0.0"
        ],
        [
         "2",
         "038af19179925da21a25619c5a24b745",
         "2015-03-01",
         "0.151367",
         "0.0",
         "0.0",
         "44.26693116",
         "0.0",
         "0.0"
        ]
       ],
       "shape": {
        "columns": 8,
        "rows": 3
       }
      },
      "text/html": [
       "<div>\n",
       "<style scoped>\n",
       "    .dataframe tbody tr th:only-of-type {\n",
       "        vertical-align: middle;\n",
       "    }\n",
       "\n",
       "    .dataframe tbody tr th {\n",
       "        vertical-align: top;\n",
       "    }\n",
       "\n",
       "    .dataframe thead th {\n",
       "        text-align: right;\n",
       "    }\n",
       "</style>\n",
       "<table border=\"1\" class=\"dataframe\">\n",
       "  <thead>\n",
       "    <tr style=\"text-align: right;\">\n",
       "      <th></th>\n",
       "      <th>id</th>\n",
       "      <th>price_date</th>\n",
       "      <th>price_off_peak_var</th>\n",
       "      <th>price_peak_var</th>\n",
       "      <th>price_mid_peak_var</th>\n",
       "      <th>price_off_peak_fix</th>\n",
       "      <th>price_peak_fix</th>\n",
       "      <th>price_mid_peak_fix</th>\n",
       "    </tr>\n",
       "  </thead>\n",
       "  <tbody>\n",
       "    <tr>\n",
       "      <th>0</th>\n",
       "      <td>038af19179925da21a25619c5a24b745</td>\n",
       "      <td>2015-01-01</td>\n",
       "      <td>0.151367</td>\n",
       "      <td>0.0</td>\n",
       "      <td>0.0</td>\n",
       "      <td>44.266931</td>\n",
       "      <td>0.0</td>\n",
       "      <td>0.0</td>\n",
       "    </tr>\n",
       "    <tr>\n",
       "      <th>1</th>\n",
       "      <td>038af19179925da21a25619c5a24b745</td>\n",
       "      <td>2015-02-01</td>\n",
       "      <td>0.151367</td>\n",
       "      <td>0.0</td>\n",
       "      <td>0.0</td>\n",
       "      <td>44.266931</td>\n",
       "      <td>0.0</td>\n",
       "      <td>0.0</td>\n",
       "    </tr>\n",
       "    <tr>\n",
       "      <th>2</th>\n",
       "      <td>038af19179925da21a25619c5a24b745</td>\n",
       "      <td>2015-03-01</td>\n",
       "      <td>0.151367</td>\n",
       "      <td>0.0</td>\n",
       "      <td>0.0</td>\n",
       "      <td>44.266931</td>\n",
       "      <td>0.0</td>\n",
       "      <td>0.0</td>\n",
       "    </tr>\n",
       "  </tbody>\n",
       "</table>\n",
       "</div>"
      ],
      "text/plain": [
       "                                 id  price_date  price_off_peak_var  \\\n",
       "0  038af19179925da21a25619c5a24b745  2015-01-01            0.151367   \n",
       "1  038af19179925da21a25619c5a24b745  2015-02-01            0.151367   \n",
       "2  038af19179925da21a25619c5a24b745  2015-03-01            0.151367   \n",
       "\n",
       "   price_peak_var  price_mid_peak_var  price_off_peak_fix  price_peak_fix  \\\n",
       "0             0.0                 0.0           44.266931             0.0   \n",
       "1             0.0                 0.0           44.266931             0.0   \n",
       "2             0.0                 0.0           44.266931             0.0   \n",
       "\n",
       "   price_mid_peak_fix  \n",
       "0                 0.0  \n",
       "1                 0.0  \n",
       "2                 0.0  "
      ]
     },
     "execution_count": 4,
     "metadata": {},
     "output_type": "execute_result"
    }
   ],
   "source": [
    "price_df.head(3)"
   ]
  },
  {
   "cell_type": "markdown",
   "id": "966c3948-41c0-4183-9118-dd665c58a93c",
   "metadata": {},
   "source": [
    "---\n",
    "\n",
    "## Descriptive statistics of data\n",
    "\n",
    "### Data types\n",
    "\n",
    "It is useful to first understand the data that you're dealing with along with the data types of each column. The data types may dictate how you transform and engineer features.\n",
    "\n",
    "To get an overview of the data types within a data frame, use the `info()` method."
   ]
  },
  {
   "cell_type": "code",
   "execution_count": 5,
   "id": "2dc75b07-c286-4852-bc33-e501782e67d9",
   "metadata": {},
   "outputs": [
    {
     "name": "stdout",
     "output_type": "stream",
     "text": [
      "<class 'pandas.core.frame.DataFrame'>\n",
      "RangeIndex: 14606 entries, 0 to 14605\n",
      "Data columns (total 26 columns):\n",
      " #   Column                          Non-Null Count  Dtype  \n",
      "---  ------                          --------------  -----  \n",
      " 0   id                              14606 non-null  object \n",
      " 1   channel_sales                   14606 non-null  object \n",
      " 2   cons_12m                        14606 non-null  int64  \n",
      " 3   cons_gas_12m                    14606 non-null  int64  \n",
      " 4   cons_last_month                 14606 non-null  int64  \n",
      " 5   date_activ                      14606 non-null  object \n",
      " 6   date_end                        14606 non-null  object \n",
      " 7   date_modif_prod                 14606 non-null  object \n",
      " 8   date_renewal                    14606 non-null  object \n",
      " 9   forecast_cons_12m               14606 non-null  float64\n",
      " 10  forecast_cons_year              14606 non-null  int64  \n",
      " 11  forecast_discount_energy        14606 non-null  float64\n",
      " 12  forecast_meter_rent_12m         14606 non-null  float64\n",
      " 13  forecast_price_energy_off_peak  14606 non-null  float64\n",
      " 14  forecast_price_energy_peak      14606 non-null  float64\n",
      " 15  forecast_price_pow_off_peak     14606 non-null  float64\n",
      " 16  has_gas                         14606 non-null  object \n",
      " 17  imp_cons                        14606 non-null  float64\n",
      " 18  margin_gross_pow_ele            14606 non-null  float64\n",
      " 19  margin_net_pow_ele              14606 non-null  float64\n",
      " 20  nb_prod_act                     14606 non-null  int64  \n",
      " 21  net_margin                      14606 non-null  float64\n",
      " 22  num_years_antig                 14606 non-null  int64  \n",
      " 23  origin_up                       14606 non-null  object \n",
      " 24  pow_max                         14606 non-null  float64\n",
      " 25  churn                           14606 non-null  int64  \n",
      "dtypes: float64(11), int64(7), object(8)\n",
      "memory usage: 2.9+ MB\n"
     ]
    }
   ],
   "source": [
    "client_df.info()"
   ]
  },
  {
   "cell_type": "code",
   "execution_count": 6,
   "id": "b67f2628-351a-48ee-b8ba-88c54042af88",
   "metadata": {},
   "outputs": [
    {
     "name": "stdout",
     "output_type": "stream",
     "text": [
      "<class 'pandas.core.frame.DataFrame'>\n",
      "RangeIndex: 193002 entries, 0 to 193001\n",
      "Data columns (total 8 columns):\n",
      " #   Column              Non-Null Count   Dtype  \n",
      "---  ------              --------------   -----  \n",
      " 0   id                  193002 non-null  object \n",
      " 1   price_date          193002 non-null  object \n",
      " 2   price_off_peak_var  193002 non-null  float64\n",
      " 3   price_peak_var      193002 non-null  float64\n",
      " 4   price_mid_peak_var  193002 non-null  float64\n",
      " 5   price_off_peak_fix  193002 non-null  float64\n",
      " 6   price_peak_fix      193002 non-null  float64\n",
      " 7   price_mid_peak_fix  193002 non-null  float64\n",
      "dtypes: float64(6), object(2)\n",
      "memory usage: 11.8+ MB\n"
     ]
    }
   ],
   "source": [
    "price_df.info()"
   ]
  },
  {
   "cell_type": "markdown",
   "id": "3d7e80c5-ef07-47a7-908a-a081b3ebd09e",
   "metadata": {},
   "source": [
    "### Statistics\n",
    "\n",
    "Now let's look at some statistics about the datasets. We can do this by using the `describe()` method."
   ]
  },
  {
   "cell_type": "code",
   "execution_count": 7,
   "id": "60f3010c-ecaf-4b8a-bb87-93bb54cc0c7e",
   "metadata": {},
   "outputs": [
    {
     "data": {
      "application/vnd.microsoft.datawrangler.viewer.v0+json": {
       "columns": [
        {
         "name": "index",
         "rawType": "object",
         "type": "string"
        },
        {
         "name": "cons_12m",
         "rawType": "float64",
         "type": "float"
        },
        {
         "name": "cons_gas_12m",
         "rawType": "float64",
         "type": "float"
        },
        {
         "name": "cons_last_month",
         "rawType": "float64",
         "type": "float"
        },
        {
         "name": "forecast_cons_12m",
         "rawType": "float64",
         "type": "float"
        },
        {
         "name": "forecast_cons_year",
         "rawType": "float64",
         "type": "float"
        },
        {
         "name": "forecast_discount_energy",
         "rawType": "float64",
         "type": "float"
        },
        {
         "name": "forecast_meter_rent_12m",
         "rawType": "float64",
         "type": "float"
        },
        {
         "name": "forecast_price_energy_off_peak",
         "rawType": "float64",
         "type": "float"
        },
        {
         "name": "forecast_price_energy_peak",
         "rawType": "float64",
         "type": "float"
        },
        {
         "name": "forecast_price_pow_off_peak",
         "rawType": "float64",
         "type": "float"
        },
        {
         "name": "imp_cons",
         "rawType": "float64",
         "type": "float"
        },
        {
         "name": "margin_gross_pow_ele",
         "rawType": "float64",
         "type": "float"
        },
        {
         "name": "margin_net_pow_ele",
         "rawType": "float64",
         "type": "float"
        },
        {
         "name": "nb_prod_act",
         "rawType": "float64",
         "type": "float"
        },
        {
         "name": "net_margin",
         "rawType": "float64",
         "type": "float"
        },
        {
         "name": "num_years_antig",
         "rawType": "float64",
         "type": "float"
        },
        {
         "name": "pow_max",
         "rawType": "float64",
         "type": "float"
        },
        {
         "name": "churn",
         "rawType": "float64",
         "type": "float"
        }
       ],
       "conversionMethod": "pd.DataFrame",
       "ref": "1db6e435-1669-4080-8ce5-e3fd61fb9a33",
       "rows": [
        [
         "count",
         "14606.0",
         "14606.0",
         "14606.0",
         "14606.0",
         "14606.0",
         "14606.0",
         "14606.0",
         "14606.0",
         "14606.0",
         "14606.0",
         "14606.0",
         "14606.0",
         "14606.0",
         "14606.0",
         "14606.0",
         "14606.0",
         "14606.0",
         "14606.0"
        ],
        [
         "mean",
         "159220.2862522251",
         "28092.375325208817",
         "16090.269752156648",
         "1868.6148795015747",
         "1399.7629056552103",
         "0.9667260030124606",
         "63.08687114884294",
         "0.13728326568533475",
         "0.05049076721895111",
         "43.13005552529372",
         "152.7868957962481",
         "24.56512118307545",
         "24.562517458578668",
         "1.2923456113925784",
         "189.26452211419968",
         "4.997809119539915",
         "18.13513562919348",
         "0.09715185540188963"
        ],
        [
         "std",
         "573465.2641977987",
         "162973.05905732032",
         "64364.196421753666",
         "2387.571530730436",
         "3247.786255199376",
         "5.1082886967097725",
         "66.16578283151385",
         "0.024622862350857738",
         "0.04903650730528814",
         "4.485988222177432",
         "341.3693655964966",
         "20.231171825581104",
         "20.230279773176544",
         "0.7097735191117632",
         "311.7981300587642",
         "1.611749266959034",
         "13.53474337353656",
         "0.2961745736931901"
        ],
        [
         "min",
         "0.0",
         "0.0",
         "0.0",
         "0.0",
         "0.0",
         "0.0",
         "0.0",
         "0.0",
         "0.0",
         "0.0",
         "0.0",
         "0.0",
         "0.0",
         "1.0",
         "0.0",
         "1.0",
         "3.3",
         "0.0"
        ],
        [
         "25%",
         "5674.75",
         "0.0",
         "0.0",
         "494.995",
         "0.0",
         "0.0",
         "16.18",
         "0.11634",
         "0.0",
         "40.606701",
         "0.0",
         "14.28",
         "14.28",
         "1.0",
         "50.7125",
         "4.0",
         "12.5",
         "0.0"
        ],
        [
         "50%",
         "14115.5",
         "0.0",
         "792.5",
         "1112.875",
         "314.0",
         "0.0",
         "18.795",
         "0.143166",
         "0.084138",
         "44.31137796",
         "37.394999999999996",
         "21.64",
         "21.64",
         "1.0",
         "112.53",
         "5.0",
         "13.856",
         "0.0"
        ],
        [
         "75%",
         "40763.75",
         "0.0",
         "3383.0",
         "2401.79",
         "1745.75",
         "0.0",
         "131.03",
         "0.146348",
         "0.098837",
         "44.31137796",
         "193.98000000000002",
         "29.88",
         "29.88",
         "1.0",
         "243.0975",
         "6.0",
         "19.1725",
         "0.0"
        ],
        [
         "max",
         "6207104.0",
         "4154590.0",
         "771203.0",
         "82902.83",
         "175375.0",
         "30.0",
         "599.31",
         "0.273963",
         "0.195975",
         "59.26637796",
         "15042.79",
         "374.64",
         "374.64",
         "32.0",
         "24570.65",
         "13.0",
         "320.0",
         "1.0"
        ]
       ],
       "shape": {
        "columns": 18,
        "rows": 8
       }
      },
      "text/html": [
       "<div>\n",
       "<style scoped>\n",
       "    .dataframe tbody tr th:only-of-type {\n",
       "        vertical-align: middle;\n",
       "    }\n",
       "\n",
       "    .dataframe tbody tr th {\n",
       "        vertical-align: top;\n",
       "    }\n",
       "\n",
       "    .dataframe thead th {\n",
       "        text-align: right;\n",
       "    }\n",
       "</style>\n",
       "<table border=\"1\" class=\"dataframe\">\n",
       "  <thead>\n",
       "    <tr style=\"text-align: right;\">\n",
       "      <th></th>\n",
       "      <th>cons_12m</th>\n",
       "      <th>cons_gas_12m</th>\n",
       "      <th>cons_last_month</th>\n",
       "      <th>forecast_cons_12m</th>\n",
       "      <th>forecast_cons_year</th>\n",
       "      <th>forecast_discount_energy</th>\n",
       "      <th>forecast_meter_rent_12m</th>\n",
       "      <th>forecast_price_energy_off_peak</th>\n",
       "      <th>forecast_price_energy_peak</th>\n",
       "      <th>forecast_price_pow_off_peak</th>\n",
       "      <th>imp_cons</th>\n",
       "      <th>margin_gross_pow_ele</th>\n",
       "      <th>margin_net_pow_ele</th>\n",
       "      <th>nb_prod_act</th>\n",
       "      <th>net_margin</th>\n",
       "      <th>num_years_antig</th>\n",
       "      <th>pow_max</th>\n",
       "      <th>churn</th>\n",
       "    </tr>\n",
       "  </thead>\n",
       "  <tbody>\n",
       "    <tr>\n",
       "      <th>count</th>\n",
       "      <td>1.460600e+04</td>\n",
       "      <td>1.460600e+04</td>\n",
       "      <td>14606.000000</td>\n",
       "      <td>14606.000000</td>\n",
       "      <td>14606.000000</td>\n",
       "      <td>14606.000000</td>\n",
       "      <td>14606.000000</td>\n",
       "      <td>14606.000000</td>\n",
       "      <td>14606.000000</td>\n",
       "      <td>14606.000000</td>\n",
       "      <td>14606.000000</td>\n",
       "      <td>14606.000000</td>\n",
       "      <td>14606.000000</td>\n",
       "      <td>14606.000000</td>\n",
       "      <td>14606.000000</td>\n",
       "      <td>14606.000000</td>\n",
       "      <td>14606.000000</td>\n",
       "      <td>14606.000000</td>\n",
       "    </tr>\n",
       "    <tr>\n",
       "      <th>mean</th>\n",
       "      <td>1.592203e+05</td>\n",
       "      <td>2.809238e+04</td>\n",
       "      <td>16090.269752</td>\n",
       "      <td>1868.614880</td>\n",
       "      <td>1399.762906</td>\n",
       "      <td>0.966726</td>\n",
       "      <td>63.086871</td>\n",
       "      <td>0.137283</td>\n",
       "      <td>0.050491</td>\n",
       "      <td>43.130056</td>\n",
       "      <td>152.786896</td>\n",
       "      <td>24.565121</td>\n",
       "      <td>24.562517</td>\n",
       "      <td>1.292346</td>\n",
       "      <td>189.264522</td>\n",
       "      <td>4.997809</td>\n",
       "      <td>18.135136</td>\n",
       "      <td>0.097152</td>\n",
       "    </tr>\n",
       "    <tr>\n",
       "      <th>std</th>\n",
       "      <td>5.734653e+05</td>\n",
       "      <td>1.629731e+05</td>\n",
       "      <td>64364.196422</td>\n",
       "      <td>2387.571531</td>\n",
       "      <td>3247.786255</td>\n",
       "      <td>5.108289</td>\n",
       "      <td>66.165783</td>\n",
       "      <td>0.024623</td>\n",
       "      <td>0.049037</td>\n",
       "      <td>4.485988</td>\n",
       "      <td>341.369366</td>\n",
       "      <td>20.231172</td>\n",
       "      <td>20.230280</td>\n",
       "      <td>0.709774</td>\n",
       "      <td>311.798130</td>\n",
       "      <td>1.611749</td>\n",
       "      <td>13.534743</td>\n",
       "      <td>0.296175</td>\n",
       "    </tr>\n",
       "    <tr>\n",
       "      <th>min</th>\n",
       "      <td>0.000000e+00</td>\n",
       "      <td>0.000000e+00</td>\n",
       "      <td>0.000000</td>\n",
       "      <td>0.000000</td>\n",
       "      <td>0.000000</td>\n",
       "      <td>0.000000</td>\n",
       "      <td>0.000000</td>\n",
       "      <td>0.000000</td>\n",
       "      <td>0.000000</td>\n",
       "      <td>0.000000</td>\n",
       "      <td>0.000000</td>\n",
       "      <td>0.000000</td>\n",
       "      <td>0.000000</td>\n",
       "      <td>1.000000</td>\n",
       "      <td>0.000000</td>\n",
       "      <td>1.000000</td>\n",
       "      <td>3.300000</td>\n",
       "      <td>0.000000</td>\n",
       "    </tr>\n",
       "    <tr>\n",
       "      <th>25%</th>\n",
       "      <td>5.674750e+03</td>\n",
       "      <td>0.000000e+00</td>\n",
       "      <td>0.000000</td>\n",
       "      <td>494.995000</td>\n",
       "      <td>0.000000</td>\n",
       "      <td>0.000000</td>\n",
       "      <td>16.180000</td>\n",
       "      <td>0.116340</td>\n",
       "      <td>0.000000</td>\n",
       "      <td>40.606701</td>\n",
       "      <td>0.000000</td>\n",
       "      <td>14.280000</td>\n",
       "      <td>14.280000</td>\n",
       "      <td>1.000000</td>\n",
       "      <td>50.712500</td>\n",
       "      <td>4.000000</td>\n",
       "      <td>12.500000</td>\n",
       "      <td>0.000000</td>\n",
       "    </tr>\n",
       "    <tr>\n",
       "      <th>50%</th>\n",
       "      <td>1.411550e+04</td>\n",
       "      <td>0.000000e+00</td>\n",
       "      <td>792.500000</td>\n",
       "      <td>1112.875000</td>\n",
       "      <td>314.000000</td>\n",
       "      <td>0.000000</td>\n",
       "      <td>18.795000</td>\n",
       "      <td>0.143166</td>\n",
       "      <td>0.084138</td>\n",
       "      <td>44.311378</td>\n",
       "      <td>37.395000</td>\n",
       "      <td>21.640000</td>\n",
       "      <td>21.640000</td>\n",
       "      <td>1.000000</td>\n",
       "      <td>112.530000</td>\n",
       "      <td>5.000000</td>\n",
       "      <td>13.856000</td>\n",
       "      <td>0.000000</td>\n",
       "    </tr>\n",
       "    <tr>\n",
       "      <th>75%</th>\n",
       "      <td>4.076375e+04</td>\n",
       "      <td>0.000000e+00</td>\n",
       "      <td>3383.000000</td>\n",
       "      <td>2401.790000</td>\n",
       "      <td>1745.750000</td>\n",
       "      <td>0.000000</td>\n",
       "      <td>131.030000</td>\n",
       "      <td>0.146348</td>\n",
       "      <td>0.098837</td>\n",
       "      <td>44.311378</td>\n",
       "      <td>193.980000</td>\n",
       "      <td>29.880000</td>\n",
       "      <td>29.880000</td>\n",
       "      <td>1.000000</td>\n",
       "      <td>243.097500</td>\n",
       "      <td>6.000000</td>\n",
       "      <td>19.172500</td>\n",
       "      <td>0.000000</td>\n",
       "    </tr>\n",
       "    <tr>\n",
       "      <th>max</th>\n",
       "      <td>6.207104e+06</td>\n",
       "      <td>4.154590e+06</td>\n",
       "      <td>771203.000000</td>\n",
       "      <td>82902.830000</td>\n",
       "      <td>175375.000000</td>\n",
       "      <td>30.000000</td>\n",
       "      <td>599.310000</td>\n",
       "      <td>0.273963</td>\n",
       "      <td>0.195975</td>\n",
       "      <td>59.266378</td>\n",
       "      <td>15042.790000</td>\n",
       "      <td>374.640000</td>\n",
       "      <td>374.640000</td>\n",
       "      <td>32.000000</td>\n",
       "      <td>24570.650000</td>\n",
       "      <td>13.000000</td>\n",
       "      <td>320.000000</td>\n",
       "      <td>1.000000</td>\n",
       "    </tr>\n",
       "  </tbody>\n",
       "</table>\n",
       "</div>"
      ],
      "text/plain": [
       "           cons_12m  cons_gas_12m  cons_last_month  forecast_cons_12m  \\\n",
       "count  1.460600e+04  1.460600e+04     14606.000000       14606.000000   \n",
       "mean   1.592203e+05  2.809238e+04     16090.269752        1868.614880   \n",
       "std    5.734653e+05  1.629731e+05     64364.196422        2387.571531   \n",
       "min    0.000000e+00  0.000000e+00         0.000000           0.000000   \n",
       "25%    5.674750e+03  0.000000e+00         0.000000         494.995000   \n",
       "50%    1.411550e+04  0.000000e+00       792.500000        1112.875000   \n",
       "75%    4.076375e+04  0.000000e+00      3383.000000        2401.790000   \n",
       "max    6.207104e+06  4.154590e+06    771203.000000       82902.830000   \n",
       "\n",
       "       forecast_cons_year  forecast_discount_energy  forecast_meter_rent_12m  \\\n",
       "count        14606.000000              14606.000000             14606.000000   \n",
       "mean          1399.762906                  0.966726                63.086871   \n",
       "std           3247.786255                  5.108289                66.165783   \n",
       "min              0.000000                  0.000000                 0.000000   \n",
       "25%              0.000000                  0.000000                16.180000   \n",
       "50%            314.000000                  0.000000                18.795000   \n",
       "75%           1745.750000                  0.000000               131.030000   \n",
       "max         175375.000000                 30.000000               599.310000   \n",
       "\n",
       "       forecast_price_energy_off_peak  forecast_price_energy_peak  \\\n",
       "count                    14606.000000                14606.000000   \n",
       "mean                         0.137283                    0.050491   \n",
       "std                          0.024623                    0.049037   \n",
       "min                          0.000000                    0.000000   \n",
       "25%                          0.116340                    0.000000   \n",
       "50%                          0.143166                    0.084138   \n",
       "75%                          0.146348                    0.098837   \n",
       "max                          0.273963                    0.195975   \n",
       "\n",
       "       forecast_price_pow_off_peak      imp_cons  margin_gross_pow_ele  \\\n",
       "count                 14606.000000  14606.000000          14606.000000   \n",
       "mean                     43.130056    152.786896             24.565121   \n",
       "std                       4.485988    341.369366             20.231172   \n",
       "min                       0.000000      0.000000              0.000000   \n",
       "25%                      40.606701      0.000000             14.280000   \n",
       "50%                      44.311378     37.395000             21.640000   \n",
       "75%                      44.311378    193.980000             29.880000   \n",
       "max                      59.266378  15042.790000            374.640000   \n",
       "\n",
       "       margin_net_pow_ele   nb_prod_act    net_margin  num_years_antig  \\\n",
       "count        14606.000000  14606.000000  14606.000000     14606.000000   \n",
       "mean            24.562517      1.292346    189.264522         4.997809   \n",
       "std             20.230280      0.709774    311.798130         1.611749   \n",
       "min              0.000000      1.000000      0.000000         1.000000   \n",
       "25%             14.280000      1.000000     50.712500         4.000000   \n",
       "50%             21.640000      1.000000    112.530000         5.000000   \n",
       "75%             29.880000      1.000000    243.097500         6.000000   \n",
       "max            374.640000     32.000000  24570.650000        13.000000   \n",
       "\n",
       "            pow_max         churn  \n",
       "count  14606.000000  14606.000000  \n",
       "mean      18.135136      0.097152  \n",
       "std       13.534743      0.296175  \n",
       "min        3.300000      0.000000  \n",
       "25%       12.500000      0.000000  \n",
       "50%       13.856000      0.000000  \n",
       "75%       19.172500      0.000000  \n",
       "max      320.000000      1.000000  "
      ]
     },
     "execution_count": 7,
     "metadata": {},
     "output_type": "execute_result"
    }
   ],
   "source": [
    "client_df.describe()"
   ]
  },
  {
   "cell_type": "code",
   "execution_count": 8,
   "id": "f8b442e6-e186-42f9-b3c5-c5c15cd8c82a",
   "metadata": {},
   "outputs": [
    {
     "data": {
      "application/vnd.microsoft.datawrangler.viewer.v0+json": {
       "columns": [
        {
         "name": "index",
         "rawType": "object",
         "type": "string"
        },
        {
         "name": "price_off_peak_var",
         "rawType": "float64",
         "type": "float"
        },
        {
         "name": "price_peak_var",
         "rawType": "float64",
         "type": "float"
        },
        {
         "name": "price_mid_peak_var",
         "rawType": "float64",
         "type": "float"
        },
        {
         "name": "price_off_peak_fix",
         "rawType": "float64",
         "type": "float"
        },
        {
         "name": "price_peak_fix",
         "rawType": "float64",
         "type": "float"
        },
        {
         "name": "price_mid_peak_fix",
         "rawType": "float64",
         "type": "float"
        }
       ],
       "conversionMethod": "pd.DataFrame",
       "ref": "01c903dc-3091-4f37-9892-50bebc39e199",
       "rows": [
        [
         "count",
         "193002.0",
         "193002.0",
         "193002.0",
         "193002.0",
         "193002.0",
         "193002.0"
        ],
        [
         "mean",
         "0.14102697259505084",
         "0.05463039689873681",
         "0.030496007458938247",
         "43.33447695717784",
         "10.622875247557124",
         "6.409984354197781"
        ],
        [
         "std",
         "0.02503240690701826",
         "0.04992426204172699",
         "0.036298008142279486",
         "5.410296548987816",
         "12.841894873672825",
         "7.773592065478168"
        ],
        [
         "min",
         "0.0",
         "0.0",
         "0.0",
         "0.0",
         "0.0",
         "0.0"
        ],
        [
         "25%",
         "0.125976",
         "0.0",
         "0.0",
         "40.728885",
         "0.0",
         "0.0"
        ],
        [
         "50%",
         "0.146033",
         "0.085483",
         "0.0",
         "44.26692996",
         "0.0",
         "0.0"
        ],
        [
         "75%",
         "0.151635",
         "0.101673",
         "0.072558",
         "44.44470996",
         "24.33958068",
         "16.22638872"
        ],
        [
         "max",
         "0.2807",
         "0.229788",
         "0.114102",
         "59.44470996",
         "36.490692",
         "17.45822136"
        ]
       ],
       "shape": {
        "columns": 6,
        "rows": 8
       }
      },
      "text/html": [
       "<div>\n",
       "<style scoped>\n",
       "    .dataframe tbody tr th:only-of-type {\n",
       "        vertical-align: middle;\n",
       "    }\n",
       "\n",
       "    .dataframe tbody tr th {\n",
       "        vertical-align: top;\n",
       "    }\n",
       "\n",
       "    .dataframe thead th {\n",
       "        text-align: right;\n",
       "    }\n",
       "</style>\n",
       "<table border=\"1\" class=\"dataframe\">\n",
       "  <thead>\n",
       "    <tr style=\"text-align: right;\">\n",
       "      <th></th>\n",
       "      <th>price_off_peak_var</th>\n",
       "      <th>price_peak_var</th>\n",
       "      <th>price_mid_peak_var</th>\n",
       "      <th>price_off_peak_fix</th>\n",
       "      <th>price_peak_fix</th>\n",
       "      <th>price_mid_peak_fix</th>\n",
       "    </tr>\n",
       "  </thead>\n",
       "  <tbody>\n",
       "    <tr>\n",
       "      <th>count</th>\n",
       "      <td>193002.000000</td>\n",
       "      <td>193002.000000</td>\n",
       "      <td>193002.000000</td>\n",
       "      <td>193002.000000</td>\n",
       "      <td>193002.000000</td>\n",
       "      <td>193002.000000</td>\n",
       "    </tr>\n",
       "    <tr>\n",
       "      <th>mean</th>\n",
       "      <td>0.141027</td>\n",
       "      <td>0.054630</td>\n",
       "      <td>0.030496</td>\n",
       "      <td>43.334477</td>\n",
       "      <td>10.622875</td>\n",
       "      <td>6.409984</td>\n",
       "    </tr>\n",
       "    <tr>\n",
       "      <th>std</th>\n",
       "      <td>0.025032</td>\n",
       "      <td>0.049924</td>\n",
       "      <td>0.036298</td>\n",
       "      <td>5.410297</td>\n",
       "      <td>12.841895</td>\n",
       "      <td>7.773592</td>\n",
       "    </tr>\n",
       "    <tr>\n",
       "      <th>min</th>\n",
       "      <td>0.000000</td>\n",
       "      <td>0.000000</td>\n",
       "      <td>0.000000</td>\n",
       "      <td>0.000000</td>\n",
       "      <td>0.000000</td>\n",
       "      <td>0.000000</td>\n",
       "    </tr>\n",
       "    <tr>\n",
       "      <th>25%</th>\n",
       "      <td>0.125976</td>\n",
       "      <td>0.000000</td>\n",
       "      <td>0.000000</td>\n",
       "      <td>40.728885</td>\n",
       "      <td>0.000000</td>\n",
       "      <td>0.000000</td>\n",
       "    </tr>\n",
       "    <tr>\n",
       "      <th>50%</th>\n",
       "      <td>0.146033</td>\n",
       "      <td>0.085483</td>\n",
       "      <td>0.000000</td>\n",
       "      <td>44.266930</td>\n",
       "      <td>0.000000</td>\n",
       "      <td>0.000000</td>\n",
       "    </tr>\n",
       "    <tr>\n",
       "      <th>75%</th>\n",
       "      <td>0.151635</td>\n",
       "      <td>0.101673</td>\n",
       "      <td>0.072558</td>\n",
       "      <td>44.444710</td>\n",
       "      <td>24.339581</td>\n",
       "      <td>16.226389</td>\n",
       "    </tr>\n",
       "    <tr>\n",
       "      <th>max</th>\n",
       "      <td>0.280700</td>\n",
       "      <td>0.229788</td>\n",
       "      <td>0.114102</td>\n",
       "      <td>59.444710</td>\n",
       "      <td>36.490692</td>\n",
       "      <td>17.458221</td>\n",
       "    </tr>\n",
       "  </tbody>\n",
       "</table>\n",
       "</div>"
      ],
      "text/plain": [
       "       price_off_peak_var  price_peak_var  price_mid_peak_var  \\\n",
       "count       193002.000000   193002.000000       193002.000000   \n",
       "mean             0.141027        0.054630            0.030496   \n",
       "std              0.025032        0.049924            0.036298   \n",
       "min              0.000000        0.000000            0.000000   \n",
       "25%              0.125976        0.000000            0.000000   \n",
       "50%              0.146033        0.085483            0.000000   \n",
       "75%              0.151635        0.101673            0.072558   \n",
       "max              0.280700        0.229788            0.114102   \n",
       "\n",
       "       price_off_peak_fix  price_peak_fix  price_mid_peak_fix  \n",
       "count       193002.000000   193002.000000       193002.000000  \n",
       "mean            43.334477       10.622875            6.409984  \n",
       "std              5.410297       12.841895            7.773592  \n",
       "min              0.000000        0.000000            0.000000  \n",
       "25%             40.728885        0.000000            0.000000  \n",
       "50%             44.266930        0.000000            0.000000  \n",
       "75%             44.444710       24.339581           16.226389  \n",
       "max             59.444710       36.490692           17.458221  "
      ]
     },
     "execution_count": 8,
     "metadata": {},
     "output_type": "execute_result"
    }
   ],
   "source": [
    "price_df.describe()"
   ]
  },
  {
   "cell_type": "code",
   "execution_count": 32,
   "id": "cd152b3c",
   "metadata": {},
   "outputs": [
    {
     "data": {
      "text/plain": [
       "id                                14606\n",
       "channel_sales                     14606\n",
       "cons_12m                          14606\n",
       "cons_gas_12m                      14606\n",
       "cons_last_month                   14606\n",
       "date_activ                        14606\n",
       "date_end                          14606\n",
       "date_modif_prod                   14606\n",
       "date_renewal                      14606\n",
       "forecast_cons_12m                 14606\n",
       "forecast_cons_year                14606\n",
       "forecast_discount_energy          14606\n",
       "forecast_meter_rent_12m           14606\n",
       "forecast_price_energy_off_peak    14606\n",
       "forecast_price_energy_peak        14606\n",
       "forecast_price_pow_off_peak       14606\n",
       "has_gas                           14606\n",
       "imp_cons                          14606\n",
       "margin_gross_pow_ele              14606\n",
       "margin_net_pow_ele                14606\n",
       "nb_prod_act                       14606\n",
       "net_margin                        14606\n",
       "num_years_antig                   14606\n",
       "origin_up                         14606\n",
       "pow_max                           14606\n",
       "churn                             14606\n",
       "dtype: int64"
      ]
     },
     "execution_count": 32,
     "metadata": {},
     "output_type": "execute_result"
    }
   ],
   "source": [
    "client_df.isnull().count()"
   ]
  },
  {
   "cell_type": "code",
   "execution_count": 33,
   "id": "04335a25",
   "metadata": {},
   "outputs": [
    {
     "data": {
      "text/plain": [
       "id                    193002\n",
       "price_date            193002\n",
       "price_off_peak_var    193002\n",
       "price_peak_var        193002\n",
       "price_mid_peak_var    193002\n",
       "price_off_peak_fix    193002\n",
       "price_peak_fix        193002\n",
       "price_mid_peak_fix    193002\n",
       "dtype: int64"
      ]
     },
     "execution_count": 33,
     "metadata": {},
     "output_type": "execute_result"
    }
   ],
   "source": [
    "price_df.isnull().count()"
   ]
  },
  {
   "cell_type": "code",
   "execution_count": 53,
   "id": "42e4f45c",
   "metadata": {},
   "outputs": [
    {
     "name": "stdout",
     "output_type": "stream",
     "text": [
      "cons_12m                         -0.045968\n",
      "cons_gas_12m                     -0.037957\n",
      "cons_last_month                  -0.045284\n",
      "forecast_cons_12m                 0.012949\n",
      "forecast_cons_year               -0.002558\n",
      "forecast_discount_energy          0.017026\n",
      "forecast_meter_rent_12m           0.044245\n",
      "forecast_price_energy_off_peak   -0.010837\n",
      "forecast_price_energy_peak        0.029315\n",
      "forecast_price_pow_off_peak       0.014778\n",
      "imp_cons                         -0.001583\n",
      "margin_gross_pow_ele              0.095725\n",
      "margin_net_pow_ele                0.095772\n",
      "nb_prod_act                      -0.014930\n",
      "net_margin                        0.041135\n",
      "num_years_antig                  -0.074140\n",
      "dtype: float64\n"
     ]
    }
   ],
   "source": [
    "client_df_corr = client_df[['cons_12m', 'cons_gas_12m', 'cons_last_month', 'forecast_cons_12m', 'forecast_cons_year', 'forecast_discount_energy',\n",
    "                            'forecast_meter_rent_12m', 'forecast_price_energy_off_peak', 'forecast_price_energy_peak', 'forecast_price_pow_off_peak', \n",
    "                            'imp_cons', 'margin_gross_pow_ele', 'margin_net_pow_ele', 'nb_prod_act', 'net_margin', 'num_years_antig']]\n",
    "print(client_df_corr.corrwith(client_df['churn']))"
   ]
  },
  {
   "cell_type": "markdown",
   "id": "542daf5a",
   "metadata": {},
   "source": [
    "No particularly high correlation with any numerical variable."
   ]
  },
  {
   "cell_type": "code",
   "execution_count": 78,
   "id": "a2af0bff",
   "metadata": {},
   "outputs": [
    {
     "data": {
      "application/vnd.microsoft.datawrangler.viewer.v0+json": {
       "columns": [
        {
         "name": "index",
         "rawType": "object",
         "type": "string"
        },
        {
         "name": "price_off_peak_var",
         "rawType": "float64",
         "type": "float"
        },
        {
         "name": "price_peak_var",
         "rawType": "float64",
         "type": "float"
        },
        {
         "name": "price_mid_peak_var",
         "rawType": "float64",
         "type": "float"
        },
        {
         "name": "price_off_peak_fix",
         "rawType": "float64",
         "type": "float"
        },
        {
         "name": "price_peak_fix",
         "rawType": "float64",
         "type": "float"
        },
        {
         "name": "price_mid_peak_fix",
         "rawType": "float64",
         "type": "float"
        }
       ],
       "conversionMethod": "pd.DataFrame",
       "ref": "503f4749-83a0-4043-ae1b-4a54cb527693",
       "rows": [
        [
         "price_off_peak_var",
         "1.0",
         "-0.32857967446007463",
         "-0.5948723318318423",
         "0.41709732397370125",
         "-0.6300175161659431",
         "-0.5722288858298876"
        ],
        [
         "price_peak_var",
         "-0.32857967446007463",
         "1.0",
         "0.8213534632097689",
         "-0.09862699917546658",
         "0.7960970559709841",
         "0.8077590597979031"
        ],
        [
         "price_mid_peak_var",
         "-0.5948723318318423",
         "0.8213534632097689",
         "1.0",
         "-0.13784824934836634",
         "0.9739596757947894",
         "0.9797171029857585"
        ],
        [
         "price_off_peak_fix",
         "0.41709732397370125",
         "-0.09862699917546658",
         "-0.13784824934836634",
         "1.0",
         "-0.0004276462296406786",
         "-0.2526610722487604"
        ],
        [
         "price_peak_fix",
         "-0.6300175161659431",
         "0.7960970559709841",
         "0.9739596757947894",
         "-0.0004276462296406786",
         "1.0",
         "0.9273078226961223"
        ],
        [
         "price_mid_peak_fix",
         "-0.5722288858298876",
         "0.8077590597979031",
         "0.9797171029857585",
         "-0.2526610722487604",
         "0.9273078226961223",
         "1.0"
        ]
       ],
       "shape": {
        "columns": 6,
        "rows": 6
       }
      },
      "text/html": [
       "<div>\n",
       "<style scoped>\n",
       "    .dataframe tbody tr th:only-of-type {\n",
       "        vertical-align: middle;\n",
       "    }\n",
       "\n",
       "    .dataframe tbody tr th {\n",
       "        vertical-align: top;\n",
       "    }\n",
       "\n",
       "    .dataframe thead th {\n",
       "        text-align: right;\n",
       "    }\n",
       "</style>\n",
       "<table border=\"1\" class=\"dataframe\">\n",
       "  <thead>\n",
       "    <tr style=\"text-align: right;\">\n",
       "      <th></th>\n",
       "      <th>price_off_peak_var</th>\n",
       "      <th>price_peak_var</th>\n",
       "      <th>price_mid_peak_var</th>\n",
       "      <th>price_off_peak_fix</th>\n",
       "      <th>price_peak_fix</th>\n",
       "      <th>price_mid_peak_fix</th>\n",
       "    </tr>\n",
       "  </thead>\n",
       "  <tbody>\n",
       "    <tr>\n",
       "      <th>price_off_peak_var</th>\n",
       "      <td>1.000000</td>\n",
       "      <td>-0.328580</td>\n",
       "      <td>-0.594872</td>\n",
       "      <td>0.417097</td>\n",
       "      <td>-0.630018</td>\n",
       "      <td>-0.572229</td>\n",
       "    </tr>\n",
       "    <tr>\n",
       "      <th>price_peak_var</th>\n",
       "      <td>-0.328580</td>\n",
       "      <td>1.000000</td>\n",
       "      <td>0.821353</td>\n",
       "      <td>-0.098627</td>\n",
       "      <td>0.796097</td>\n",
       "      <td>0.807759</td>\n",
       "    </tr>\n",
       "    <tr>\n",
       "      <th>price_mid_peak_var</th>\n",
       "      <td>-0.594872</td>\n",
       "      <td>0.821353</td>\n",
       "      <td>1.000000</td>\n",
       "      <td>-0.137848</td>\n",
       "      <td>0.973960</td>\n",
       "      <td>0.979717</td>\n",
       "    </tr>\n",
       "    <tr>\n",
       "      <th>price_off_peak_fix</th>\n",
       "      <td>0.417097</td>\n",
       "      <td>-0.098627</td>\n",
       "      <td>-0.137848</td>\n",
       "      <td>1.000000</td>\n",
       "      <td>-0.000428</td>\n",
       "      <td>-0.252661</td>\n",
       "    </tr>\n",
       "    <tr>\n",
       "      <th>price_peak_fix</th>\n",
       "      <td>-0.630018</td>\n",
       "      <td>0.796097</td>\n",
       "      <td>0.973960</td>\n",
       "      <td>-0.000428</td>\n",
       "      <td>1.000000</td>\n",
       "      <td>0.927308</td>\n",
       "    </tr>\n",
       "    <tr>\n",
       "      <th>price_mid_peak_fix</th>\n",
       "      <td>-0.572229</td>\n",
       "      <td>0.807759</td>\n",
       "      <td>0.979717</td>\n",
       "      <td>-0.252661</td>\n",
       "      <td>0.927308</td>\n",
       "      <td>1.000000</td>\n",
       "    </tr>\n",
       "  </tbody>\n",
       "</table>\n",
       "</div>"
      ],
      "text/plain": [
       "                    price_off_peak_var  price_peak_var  price_mid_peak_var  \\\n",
       "price_off_peak_var            1.000000       -0.328580           -0.594872   \n",
       "price_peak_var               -0.328580        1.000000            0.821353   \n",
       "price_mid_peak_var           -0.594872        0.821353            1.000000   \n",
       "price_off_peak_fix            0.417097       -0.098627           -0.137848   \n",
       "price_peak_fix               -0.630018        0.796097            0.973960   \n",
       "price_mid_peak_fix           -0.572229        0.807759            0.979717   \n",
       "\n",
       "                    price_off_peak_fix  price_peak_fix  price_mid_peak_fix  \n",
       "price_off_peak_var            0.417097       -0.630018           -0.572229  \n",
       "price_peak_var               -0.098627        0.796097            0.807759  \n",
       "price_mid_peak_var           -0.137848        0.973960            0.979717  \n",
       "price_off_peak_fix            1.000000       -0.000428           -0.252661  \n",
       "price_peak_fix               -0.000428        1.000000            0.927308  \n",
       "price_mid_peak_fix           -0.252661        0.927308            1.000000  "
      ]
     },
     "execution_count": 78,
     "metadata": {},
     "output_type": "execute_result"
    }
   ],
   "source": [
    "price_df.iloc[:, 2:].corr()"
   ]
  },
  {
   "cell_type": "code",
   "execution_count": 36,
   "id": "c1980054",
   "metadata": {},
   "outputs": [
    {
     "data": {
      "text/plain": [
       "10"
      ]
     },
     "execution_count": 36,
     "metadata": {},
     "output_type": "execute_result"
    }
   ],
   "source": [
    "client_df['nb_prod_act'].nunique()"
   ]
  },
  {
   "cell_type": "code",
   "execution_count": 38,
   "id": "f61e836f",
   "metadata": {},
   "outputs": [
    {
     "data": {
      "text/plain": [
       "13"
      ]
     },
     "execution_count": 38,
     "metadata": {},
     "output_type": "execute_result"
    }
   ],
   "source": [
    "client_df['num_years_antig'].nunique()"
   ]
  },
  {
   "cell_type": "code",
   "execution_count": 41,
   "id": "35d9710b",
   "metadata": {},
   "outputs": [
    {
     "data": {
      "text/plain": [
       "6"
      ]
     },
     "execution_count": 41,
     "metadata": {},
     "output_type": "execute_result"
    }
   ],
   "source": [
    "client_df['origin_up'].nunique()"
   ]
  },
  {
   "cell_type": "code",
   "execution_count": 46,
   "id": "655a85a7",
   "metadata": {},
   "outputs": [
    {
     "data": {
      "text/plain": [
       "16096"
      ]
     },
     "execution_count": 46,
     "metadata": {},
     "output_type": "execute_result"
    }
   ],
   "source": [
    "price_df['id'].nunique()"
   ]
  },
  {
   "cell_type": "code",
   "execution_count": 47,
   "id": "16ae8f1f",
   "metadata": {},
   "outputs": [
    {
     "data": {
      "text/plain": [
       "14606"
      ]
     },
     "execution_count": 47,
     "metadata": {},
     "output_type": "execute_result"
    }
   ],
   "source": [
    "client_df['id'].nunique()"
   ]
  },
  {
   "cell_type": "code",
   "execution_count": 49,
   "id": "82ff0e2e",
   "metadata": {},
   "outputs": [
    {
     "data": {
      "text/plain": [
       "True"
      ]
     },
     "execution_count": 49,
     "metadata": {},
     "output_type": "execute_result"
    }
   ],
   "source": [
    "set(client_df['id']).issubset(set(price_df['id']))"
   ]
  },
  {
   "cell_type": "markdown",
   "id": "578ebcf9",
   "metadata": {},
   "source": [
    "Client company identifier numbers for the two datasets are not the same. Price_df has more unique values. But all clients in client_df can be found in price_df (but not vice versa). This needs to be considered in case the two datasets are joined."
   ]
  },
  {
   "cell_type": "markdown",
   "id": "6a7a8879-c483-4464-9057-c70e6b150e53",
   "metadata": {},
   "source": [
    "---\n",
    "\n",
    "## Data visualization\n",
    "\n",
    "If you're working in Python, two of the most popular packages for visualization are `matplotlib` and `seaborn`. We highly recommend you use these, or at least be familiar with them because they are ubiquitous!\n",
    "\n",
    "Below are some functions that you can use to get started with visualizations. "
   ]
  },
  {
   "cell_type": "code",
   "execution_count": 15,
   "id": "f350ea0a-dc45-43f5-a6b7-e5e816964419",
   "metadata": {},
   "outputs": [],
   "source": [
    "def plot_stacked_bars(dataframe, title_, size_=(18, 10), rot_=0, legend_=\"upper right\"):\n",
    "    \"\"\"\n",
    "    Plot stacked bars with annotations\n",
    "    \"\"\"\n",
    "    ax = dataframe.plot(\n",
    "        kind=\"bar\",\n",
    "        stacked=True,\n",
    "        figsize=size_,\n",
    "        rot=rot_,\n",
    "        title=title_\n",
    "    )\n",
    "\n",
    "    # Annotate bars\n",
    "    annotate_stacked_bars(ax, textsize=14)\n",
    "    # Rename legend\n",
    "    plt.legend([\"Retention\", \"Churn\"], loc=legend_)\n",
    "    # Labels\n",
    "    plt.ylabel(\"Company base (%)\")\n",
    "    plt.show()\n",
    "\n",
    "def annotate_stacked_bars(ax, pad=0.99, colour=\"white\", textsize=13):\n",
    "    \"\"\"\n",
    "    Add value annotations to the bars\n",
    "    \"\"\"\n",
    "\n",
    "    # Iterate over the plotted rectanges/bars\n",
    "    for p in ax.patches:\n",
    "        \n",
    "        # Calculate annotation\n",
    "        value = str(round(p.get_height(),1))\n",
    "        # If value is 0 do not annotate\n",
    "        if value == '0.0':\n",
    "            continue\n",
    "        ax.annotate(\n",
    "            value,\n",
    "            ((p.get_x()+ p.get_width()/2)*pad-0.05, (p.get_y()+p.get_height()/2)*pad),\n",
    "            color=colour,\n",
    "            size=textsize\n",
    "        )\n",
    "\n",
    "def plot_distribution(dataframe, column, ax, bins_=50):\n",
    "    \"\"\"\n",
    "    Plot variable distirbution in a stacked histogram of churned or retained company\n",
    "    \"\"\"\n",
    "    # Create a temporal dataframe with the data to be plot\n",
    "    temp = pd.DataFrame({\"Retention\": dataframe[dataframe[\"churn\"]==0][column],\n",
    "    \"Churn\":dataframe[dataframe[\"churn\"]==1][column]})\n",
    "    # Plot the histogram\n",
    "    temp[[\"Retention\",\"Churn\"]].plot(kind='hist', bins=bins_, ax=ax, stacked=True)\n",
    "    # X-axis label\n",
    "    ax.set_xlabel(column)\n",
    "    # Change the x-axis to plain style\n",
    "    ax.ticklabel_format(style='plain', axis='x')"
   ]
  },
  {
   "cell_type": "markdown",
   "id": "6eab14d0",
   "metadata": {},
   "source": [
    "Thhe first function `plot_stacked_bars` is used to plot a stacked bar chart. An example of how you could use this is shown below:"
   ]
  },
  {
   "cell_type": "code",
   "execution_count": 16,
   "id": "448c05d8",
   "metadata": {},
   "outputs": [
    {
     "data": {
      "image/png": "[encoded data removed]",
      "text/plain": [
       "<Figure size 500x500 with 1 Axes>"
      ]
     },
     "metadata": {},
     "output_type": "display_data"
    }
   ],
   "source": [
    "churn = client_df[['id', 'churn']]\n",
    "churn.columns = ['Companies', 'churn']\n",
    "churn_total = churn.groupby(churn['churn']).count()\n",
    "churn_percentage = churn_total / churn_total.sum() * 100\n",
    "plot_stacked_bars(churn_percentage.transpose(), \"Churning status\", (5, 5), legend_=\"lower right\")"
   ]
  },
  {
   "cell_type": "code",
   "execution_count": 56,
   "id": "42e316be",
   "metadata": {},
   "outputs": [
    {
     "data": {
      "application/vnd.microsoft.datawrangler.viewer.v0+json": {
       "columns": [
        {
         "name": "origin_up",
         "rawType": "object",
         "type": "string"
        },
        {
         "name": "('Companies', 0)",
         "rawType": "int64",
         "type": "integer"
        },
        {
         "name": "('Companies', 1)",
         "rawType": "int64",
         "type": "integer"
        }
       ],
       "conversionMethod": "pd.DataFrame",
       "ref": "2b9ea3ad-77a8-4dc8-8fcd-66fde16dade7",
       "rows": [
        [
         "MISSING",
         "60",
         "4"
        ],
        [
         "ewxeelcelemmiwuafmddpobolfuxioce",
         "1",
         "0"
        ],
        [
         "kamkkxfxxuwbdslkwifmmcsiusiuosws",
         "4036",
         "258"
        ],
        [
         "ldkssxwpmemidmecebumciepifcamkci",
         "2884",
         "264"
        ],
        [
         "lxidpiddsbxsbosboudacockeimpuepw",
         "6204",
         "893"
        ],
        [
         "usapbepcfoloekilkwsdiboslwaxobdp",
         "2",
         "0"
        ]
       ],
       "shape": {
        "columns": 2,
        "rows": 6
       }
      },
      "text/html": [
       "<div>\n",
       "<style scoped>\n",
       "    .dataframe tbody tr th:only-of-type {\n",
       "        vertical-align: middle;\n",
       "    }\n",
       "\n",
       "    .dataframe tbody tr th {\n",
       "        vertical-align: top;\n",
       "    }\n",
       "\n",
       "    .dataframe thead tr th {\n",
       "        text-align: left;\n",
       "    }\n",
       "\n",
       "    .dataframe thead tr:last-of-type th {\n",
       "        text-align: right;\n",
       "    }\n",
       "</style>\n",
       "<table border=\"1\" class=\"dataframe\">\n",
       "  <thead>\n",
       "    <tr>\n",
       "      <th></th>\n",
       "      <th colspan=\"2\" halign=\"left\">Companies</th>\n",
       "    </tr>\n",
       "    <tr>\n",
       "      <th>churn</th>\n",
       "      <th>0</th>\n",
       "      <th>1</th>\n",
       "    </tr>\n",
       "    <tr>\n",
       "      <th>origin_up</th>\n",
       "      <th></th>\n",
       "      <th></th>\n",
       "    </tr>\n",
       "  </thead>\n",
       "  <tbody>\n",
       "    <tr>\n",
       "      <th>MISSING</th>\n",
       "      <td>60</td>\n",
       "      <td>4</td>\n",
       "    </tr>\n",
       "    <tr>\n",
       "      <th>ewxeelcelemmiwuafmddpobolfuxioce</th>\n",
       "      <td>1</td>\n",
       "      <td>0</td>\n",
       "    </tr>\n",
       "    <tr>\n",
       "      <th>kamkkxfxxuwbdslkwifmmcsiusiuosws</th>\n",
       "      <td>4036</td>\n",
       "      <td>258</td>\n",
       "    </tr>\n",
       "    <tr>\n",
       "      <th>ldkssxwpmemidmecebumciepifcamkci</th>\n",
       "      <td>2884</td>\n",
       "      <td>264</td>\n",
       "    </tr>\n",
       "    <tr>\n",
       "      <th>lxidpiddsbxsbosboudacockeimpuepw</th>\n",
       "      <td>6204</td>\n",
       "      <td>893</td>\n",
       "    </tr>\n",
       "    <tr>\n",
       "      <th>usapbepcfoloekilkwsdiboslwaxobdp</th>\n",
       "      <td>2</td>\n",
       "      <td>0</td>\n",
       "    </tr>\n",
       "  </tbody>\n",
       "</table>\n",
       "</div>"
      ],
      "text/plain": [
       "                                 Companies     \n",
       "churn                                    0    1\n",
       "origin_up                                      \n",
       "MISSING                                 60    4\n",
       "ewxeelcelemmiwuafmddpobolfuxioce         1    0\n",
       "kamkkxfxxuwbdslkwifmmcsiusiuosws      4036  258\n",
       "ldkssxwpmemidmecebumciepifcamkci      2884  264\n",
       "lxidpiddsbxsbosboudacockeimpuepw      6204  893\n",
       "usapbepcfoloekilkwsdiboslwaxobdp         2    0"
      ]
     },
     "execution_count": 56,
     "metadata": {},
     "output_type": "execute_result"
    }
   ],
   "source": [
    "churn_grouped"
   ]
  },
  {
   "cell_type": "code",
   "execution_count": 60,
   "id": "808ae498",
   "metadata": {},
   "outputs": [
    {
     "data": {
      "image/png": "[encoded data removed]",
      "text/plain": [
       "<Figure size 1200x800 with 1 Axes>"
      ]
     },
     "metadata": {},
     "output_type": "display_data"
    }
   ],
   "source": [
    "churn = client_df[['id', 'churn', 'origin_up']]\n",
    "churn_grouped = churn.groupby(['origin_up', 'churn']).count().unstack(fill_value=0)\n",
    "churn_percentage = churn_grouped.div(churn_grouped.sum(axis=1), axis=0) * 100\n",
    "\n",
    "# Transpose for plotting\n",
    "plot_stacked_bars(churn_percentage['id'], \"Churning Status by Electricity Campaign\", (12, 8), legend_=\"best\")\n"
   ]
  },
  {
   "cell_type": "code",
   "execution_count": 71,
   "id": "0058247a",
   "metadata": {},
   "outputs": [
    {
     "data": {
      "text/plain": [
       "Text(0.5, 1.0, 'Distribution of different Electricity Campaigns')"
      ]
     },
     "execution_count": 71,
     "metadata": {},
     "output_type": "execute_result"
    },
    {
     "data": {
      "image/png": "[encoded data removed]",
      "text/plain": [
       "<Figure size 640x480 with 1 Axes>"
      ]
     },
     "metadata": {},
     "output_type": "display_data"
    }
   ],
   "source": [
    "origin_df = client_df[['origin_up', 'id']].groupby('origin_up').count()\n",
    "origin_df.plot(kind='bar')\n",
    "plt.title(\"Distribution of different Electricity Campaigns\")"
   ]
  },
  {
   "cell_type": "code",
   "execution_count": null,
   "id": "90f27242",
   "metadata": {},
   "outputs": [
    {
     "data": {
      "image/png": "[encoded data removed]",
      "text/plain": [
       "<Figure size 1200x800 with 1 Axes>"
      ]
     },
     "metadata": {},
     "output_type": "display_data"
    }
   ],
   "source": [
    "churn = client_df[['id', 'churn', 'num_years_antig']]\n",
    "churn_grouped = churn.groupby(['num_years_antig', 'churn']).count().unstack(fill_value=0)\n",
    "churn_percentage = churn_grouped.div(churn_grouped.sum(axis=1), axis=0) * 100\n",
    "\n",
    "plot_stacked_bars(churn_percentage['id'], \"Churning Status by Antiquity\", (12, 8), legend_=\"best\")\n"
   ]
  },
  {
   "cell_type": "code",
   "execution_count": 74,
   "id": "789d2e06",
   "metadata": {},
   "outputs": [
    {
     "data": {
      "text/plain": [
       "Text(0.5, 1.0, 'Distribution of users by antiquity')"
      ]
     },
     "execution_count": 74,
     "metadata": {},
     "output_type": "execute_result"
    },
    {
     "data": {
      "image/png": "[encoded data removed]",
      "text/plain": [
       "<Figure size 640x480 with 1 Axes>"
      ]
     },
     "metadata": {},
     "output_type": "display_data"
    }
   ],
   "source": [
    "antig_df = client_df[['num_years_antig', 'id']].groupby('num_years_antig').count()\n",
    "antig_df.plot(kind='bar')\n",
    "plt.title(\"Distribution of users by antiquity\")"
   ]
  },
  {
   "cell_type": "code",
   "execution_count": null,
   "id": "a08aa80e",
   "metadata": {},
   "outputs": [
    {
     "data": {
      "image/png": "[encoded data removed]",
      "text/plain": [
       "<Figure size 1200x800 with 1 Axes>"
      ]
     },
     "metadata": {},
     "output_type": "display_data"
    }
   ],
   "source": [
    "churn = client_df[['id', 'churn', 'nb_prod_act']]\n",
    "churn_grouped = churn.groupby(['nb_prod_act', 'churn']).count().unstack(fill_value=0)\n",
    "churn_percentage = churn_grouped.div(churn_grouped.sum(axis=1), axis=0) * 100\n",
    "\n",
    "plot_stacked_bars(churn_percentage['id'], \"Churning Status by Active Products\", (12, 8), legend_=\"best\")\n"
   ]
  },
  {
   "cell_type": "code",
   "execution_count": 75,
   "id": "f1e61832",
   "metadata": {},
   "outputs": [
    {
     "data": {
      "text/plain": [
       "Text(0.5, 1.0, 'Distribution of users by active products')"
      ]
     },
     "execution_count": 75,
     "metadata": {},
     "output_type": "execute_result"
    },
    {
     "data": {
      "image/png": "[encoded data removed]",
      "text/plain": [
       "<Figure size 640x480 with 1 Axes>"
      ]
     },
     "metadata": {},
     "output_type": "display_data"
    }
   ],
   "source": [
    "prod_df = client_df[['nb_prod_act', 'id']].groupby('nb_prod_act').count()\n",
    "prod_df.plot(kind='bar')\n",
    "plt.title(\"Distribution of users by active products\")"
   ]
  },
  {
   "cell_type": "markdown",
   "id": "514f8c7c",
   "metadata": {},
   "source": [
    "Beyond 6 active products/services, the clients seem to stay. But this could be largely affected by the diminishing number of users when product number rises."
   ]
  },
  {
   "cell_type": "markdown",
   "id": "d055f10e",
   "metadata": {},
   "source": [
    "The second function `annotate_bars` is used by the first function, but the third function `plot_distribution` helps you to plot the distribution of a numeric column. An example of how it can be used is given below:"
   ]
  },
  {
   "cell_type": "code",
   "execution_count": 21,
   "id": "9a28757e",
   "metadata": {},
   "outputs": [
    {
     "data": {
      "image/png": "[encoded data removed]",
      "text/plain": [
       "<Figure size 1800x500 with 1 Axes>"
      ]
     },
     "metadata": {},
     "output_type": "display_data"
    }
   ],
   "source": [
    "consumption = client_df[['id', 'cons_12m', 'cons_gas_12m', 'cons_last_month', 'imp_cons', 'has_gas', 'churn']]\n",
    "\n",
    "fig, axs = plt.subplots(nrows=1, figsize=(18, 5))\n",
    "\n",
    "plot_distribution(consumption, 'cons_12m', axs)"
   ]
  },
  {
   "cell_type": "code",
   "execution_count": 25,
   "id": "64a2d076",
   "metadata": {},
   "outputs": [
    {
     "data": {
      "image/png": "[encoded data removed]",
      "text/plain": [
       "<Figure size 1800x500 with 1 Axes>"
      ]
     },
     "metadata": {},
     "output_type": "display_data"
    }
   ],
   "source": [
    "fig, axs = plt.subplots(nrows=1, figsize = (18,5))\n",
    "plot_distribution(consumption, 'cons_gas_12m', axs)\n"
   ]
  },
  {
   "cell_type": "code",
   "execution_count": 28,
   "id": "c36f7e5c",
   "metadata": {},
   "outputs": [
    {
     "data": {
      "image/png": "[encoded data removed]",
      "text/plain": [
       "<Figure size 1800x500 with 1 Axes>"
      ]
     },
     "metadata": {},
     "output_type": "display_data"
    }
   ],
   "source": [
    "fig, axs = plt.subplots(nrows=1, figsize = (18,5))\n",
    "plot_distribution(consumption, 'imp_cons', axs)\n"
   ]
  },
  {
   "cell_type": "code",
   "execution_count": null,
   "id": "563775d2",
   "metadata": {},
   "outputs": [],
   "source": []
  },
  {
   "cell_type": "code",
   "execution_count": null,
   "id": "1a74e93a",
   "metadata": {},
   "outputs": [],
   "source": []
  },
  {
   "cell_type": "code",
   "execution_count": null,
   "id": "ca656878",
   "metadata": {},
   "outputs": [],
   "source": []
  },
  {
   "cell_type": "code",
   "execution_count": null,
   "id": "ed6fdfc1",
   "metadata": {},
   "outputs": [],
   "source": []
  }
 ],
 "metadata": {
  "interpreter": {
   "hash": "152bf6e7dc8ee53edb5af21dc1a8faeab7f134840808a94079ed98d91ece7e0c"
  },
  "kernelspec": {
   "display_name": "Python 3",
   "language": "python",
   "name": "python3"
  },
  "language_info": {
   "codemirror_mode": {
    "name": "ipython",
    "version": 3
   },
   "file_extension": ".py",
   "mimetype": "text/x-python",
   "name": "python",
   "nbconvert_exporter": "python",
   "pygments_lexer": "ipython3",
   "version": "3.9.5"
  }
 },
 "nbformat": 4,
 "nbformat_minor": 5
}
